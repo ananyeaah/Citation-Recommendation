{
 "cells": [
  {
   "cell_type": "code",
   "execution_count": 1,
   "metadata": {},
   "outputs": [],
   "source": [
    "import pyspark\n",
    "from pyspark import SparkContext\n",
    "sc = SparkContext.getOrCreate()\n",
    "\n",
    "sc.stop()\n",
    "conf = pyspark.SparkConf()\n",
    "conf.set('spark.local.dir', '/Volumes/My Passport')\n",
    "sc = pyspark.SparkContext(conf=conf)\n"
   ]
  },
  {
   "cell_type": "code",
   "execution_count": 2,
   "metadata": {},
   "outputs": [
    {
     "data": {
      "text/html": [
       "\n",
       "        <div>\n",
       "            <p><b>SparkContext</b></p>\n",
       "\n",
       "            <p><a href=\"http://192.168.0.2:4041\">Spark UI</a></p>\n",
       "\n",
       "            <dl>\n",
       "              <dt>Version</dt>\n",
       "                <dd><code>v2.4.4</code></dd>\n",
       "              <dt>Master</dt>\n",
       "                <dd><code>local[*]</code></dd>\n",
       "              <dt>AppName</dt>\n",
       "                <dd><code>PySparkShell</code></dd>\n",
       "            </dl>\n",
       "        </div>\n",
       "        "
      ],
      "text/plain": [
       "<SparkContext master=local[*] appName=PySparkShell>"
      ]
     },
     "execution_count": 2,
     "metadata": {},
     "output_type": "execute_result"
    }
   ],
   "source": [
    "sqlContext = SQLContext (sc)\n",
    "sc\n"
   ]
  },
  {
   "cell_type": "code",
   "execution_count": 3,
   "metadata": {},
   "outputs": [],
   "source": [
    "spark.conf.set('spark.sql.shuffle.partitions', 4)\n",
    "csv_file_path_1 = '/Volumes/My Passport/OpenCorpus/Data/s2-corpus-000'\n",
    "dataframe = sqlContext.read.json(csv_file_path_1)\n"
   ]
  },
  {
   "cell_type": "code",
   "execution_count": 4,
   "metadata": {},
   "outputs": [
    {
     "data": {
      "text/plain": [
       "32140"
      ]
     },
     "execution_count": 4,
     "metadata": {},
     "output_type": "execute_result"
    }
   ],
   "source": [
    "#dataframe.schema\n",
    "dataframe.count()"
   ]
  },
  {
   "cell_type": "code",
   "execution_count": 5,
   "metadata": {},
   "outputs": [
    {
     "data": {
      "text/plain": [
       "31968"
      ]
     },
     "execution_count": 5,
     "metadata": {},
     "output_type": "execute_result"
    }
   ],
   "source": [
    "dataframe_T = dataframe.na.drop()\n",
    "dataframe_T.count()"
   ]
  },
  {
   "cell_type": "code",
   "execution_count": 6,
   "metadata": {},
   "outputs": [
    {
     "name": "stdout",
     "output_type": "stream",
     "text": [
      "root\n",
      " |-- authors: array (nullable = true)\n",
      " |    |-- element: struct (containsNull = true)\n",
      " |    |    |-- ids: array (nullable = true)\n",
      " |    |    |    |-- element: string (containsNull = true)\n",
      " |    |    |-- name: string (nullable = true)\n",
      " |-- doi: string (nullable = true)\n",
      " |-- doiUrl: string (nullable = true)\n",
      " |-- entities: array (nullable = true)\n",
      " |    |-- element: string (containsNull = true)\n",
      " |-- fieldsOfStudy: array (nullable = true)\n",
      " |    |-- element: string (containsNull = true)\n",
      " |-- id: string (nullable = true)\n",
      " |-- inCitations: array (nullable = true)\n",
      " |    |-- element: string (containsNull = true)\n",
      " |-- journalName: string (nullable = true)\n",
      " |-- journalPages: string (nullable = true)\n",
      " |-- journalVolume: string (nullable = true)\n",
      " |-- magId: string (nullable = true)\n",
      " |-- outCitations: array (nullable = true)\n",
      " |    |-- element: string (containsNull = true)\n",
      " |-- paperAbstract: string (nullable = true)\n",
      " |-- pdfUrls: array (nullable = true)\n",
      " |    |-- element: string (containsNull = true)\n",
      " |-- pmid: string (nullable = true)\n",
      " |-- s2PdfUrl: string (nullable = true)\n",
      " |-- s2Url: string (nullable = true)\n",
      " |-- sources: array (nullable = true)\n",
      " |    |-- element: string (containsNull = true)\n",
      " |-- title: string (nullable = true)\n",
      " |-- venue: string (nullable = true)\n",
      " |-- year: long (nullable = true)\n",
      "\n",
      "root\n",
      " |-- id: string (nullable = true)\n",
      " |-- paperAbstract: string (nullable = true)\n",
      " |-- outCitations: array (nullable = true)\n",
      " |    |-- element: string (containsNull = true)\n",
      "\n"
     ]
    }
   ],
   "source": [
    "dataframe_T.printSchema()\n",
    "dataframeNew = dataframe_T.select(\"id\", \"paperAbstract\", \"outCitations\")\n",
    "dataframeNew.printSchema()"
   ]
  },
  {
   "cell_type": "code",
   "execution_count": 7,
   "metadata": {},
   "outputs": [
    {
     "name": "stdout",
     "output_type": "stream",
     "text": [
      "+--------------------+--------------------+--------------------+\n",
      "|                  id|       paperAbstract|        outCitations|\n",
      "+--------------------+--------------------+--------------------+\n",
      "|33b237709dbd53953...|                    |                  []|\n",
      "|062e9c7579adc7312...|Automated medicat...|[c33122bc4d2780bf...|\n",
      "|771723e7e2d9ed97d...|In the future, th...|[8dc8c738be229d6c...|\n",
      "|263f70167ba7def67...|                    |                  []|\n",
      "|9ea1148fa65710387...|                    |                  []|\n",
      "|a2a482a55978d4363...|                    |                  []|\n",
      "|984774e366d3d4fcf...|BackgroundCorneal...|[23045299013e8738...|\n",
      "|0d0467c4cccb0dcf0...|Falsified and sub...|[394cff10a2ac99f7...|\n",
      "|237e5a3778ccff06c...|Abstract The Ni 0...|[a8a8c4728e4393d7...|\n",
      "|878a852598fbb063b...|Objectives To exp...|[b858ce153876d8cf...|\n",
      "|1908dfd37d47b416f...|Through studies o...|                  []|\n",
      "|a28cf4e1bf123673c...|IntroductionMcCun...|[dd5bf00ab838b888...|\n",
      "|f73d50b158d8796c6...|                    |                  []|\n",
      "|0dd1d3665a0bded9c...|                    |                  []|\n",
      "|d29635591b0698a78...|PURPOSE OF THE ST...|[6fab53ba6fc68c59...|\n",
      "|813c51e569e807c6e...|The Arcminute Cos...|[454eec365d6ba26b...|\n",
      "|8f74c75b5893b163a...|                    |                  []|\n",
      "|a0e1cef39b77f1e0c...|In this Letter, t...|[a77b0bfef6c59d8c...|\n",
      "|4ca503e6d539a2a2a...|Purpose The aim o...|[e5639868dad23373...|\n",
      "|12859ad60576cb71c...|                    |                  []|\n",
      "+--------------------+--------------------+--------------------+\n",
      "only showing top 20 rows\n",
      "\n"
     ]
    }
   ],
   "source": [
    "dataframeNew.show()"
   ]
  },
  {
   "cell_type": "code",
   "execution_count": 8,
   "metadata": {},
   "outputs": [
    {
     "name": "stdout",
     "output_type": "stream",
     "text": [
      "+--------------------+--------------------+--------------------+\n",
      "|                  id|       paperAbstract|                 ref|\n",
      "+--------------------+--------------------+--------------------+\n",
      "|062e9c7579adc7312...|Automated medicat...|c33122bc4d2780bf1...|\n",
      "|062e9c7579adc7312...|Automated medicat...|90241d37be4b06dd9...|\n",
      "|062e9c7579adc7312...|Automated medicat...|7d98fde2bdb4e879c...|\n",
      "|062e9c7579adc7312...|Automated medicat...|2a012d8f4630cd0ba...|\n",
      "|062e9c7579adc7312...|Automated medicat...|90c7289240281ed73...|\n",
      "|062e9c7579adc7312...|Automated medicat...|5e266d4c50630b20a...|\n",
      "|062e9c7579adc7312...|Automated medicat...|ee6e9bd43376f72ae...|\n",
      "|062e9c7579adc7312...|Automated medicat...|39ae41005ac4a91a4...|\n",
      "|062e9c7579adc7312...|Automated medicat...|598853073d646f9d8...|\n",
      "|062e9c7579adc7312...|Automated medicat...|1723e0346fc1de5bb...|\n",
      "|062e9c7579adc7312...|Automated medicat...|26481340135fb3079...|\n",
      "|062e9c7579adc7312...|Automated medicat...|94e54a72e5d8c736d...|\n",
      "|062e9c7579adc7312...|Automated medicat...|c641b685483c83157...|\n",
      "|062e9c7579adc7312...|Automated medicat...|e199c5f0fb793b7d9...|\n",
      "|062e9c7579adc7312...|Automated medicat...|4a26d06a386804988...|\n",
      "|062e9c7579adc7312...|Automated medicat...|ddc676ecdf1784c52...|\n",
      "|062e9c7579adc7312...|Automated medicat...|eac59ad6377028dce...|\n",
      "|062e9c7579adc7312...|Automated medicat...|f399655322b17d315...|\n",
      "|062e9c7579adc7312...|Automated medicat...|e121fb377bf9f4e8c...|\n",
      "|062e9c7579adc7312...|Automated medicat...|9d345ea1f94c8d01f...|\n",
      "+--------------------+--------------------+--------------------+\n",
      "only showing top 20 rows\n",
      "\n",
      "root\n",
      " |-- id: string (nullable = true)\n",
      " |-- paperAbstract: string (nullable = true)\n",
      " |-- ref: string (nullable = true)\n",
      "\n"
     ]
    }
   ],
   "source": [
    "from pyspark.sql.functions import explode, avg, col\n",
    "\n",
    "df1 = dataframeNew.select(\"id\", \"paperAbstract\", explode(\"outCitations\").alias(\"ref\"))\n",
    "df1.show()\n",
    "\n",
    "df1.printSchema()"
   ]
  },
  {
   "cell_type": "code",
   "execution_count": 9,
   "metadata": {},
   "outputs": [],
   "source": [
    "df2 = df1.na.drop() ## Dropping columns with NULL"
   ]
  },
  {
   "cell_type": "code",
   "execution_count": 10,
   "metadata": {},
   "outputs": [
    {
     "data": {
      "text/plain": [
       "293256"
      ]
     },
     "execution_count": 10,
     "metadata": {},
     "output_type": "execute_result"
    }
   ],
   "source": [
    "df2.count()"
   ]
  },
  {
   "cell_type": "code",
   "execution_count": 12,
   "metadata": {},
   "outputs": [],
   "source": [
    "## Creating Negative Samples\n",
    "df2 = df2.limit(300)\n",
    "df3 = df2.repartition(\"id\")\n",
    "df1Join = df3.alias(\"a\").join(df1.alias(\"b\")).where('a.ref != b.id')\n",
    "df1JoinNew = df1Join.select(col(\"a.id\").alias('id1'), col('b.id').alias('id2'),\"a.paperAbstract\", \n",
    "                                                                                col('b.paperAbstract').alias('paperAbstract2')).dropDuplicates()\\\n"
   ]
  },
  {
   "cell_type": "code",
   "execution_count": 15,
   "metadata": {},
   "outputs": [],
   "source": [
    "from pyspark.sql.functions import lit\n",
    "df1JoinNew_1 = df1JoinNew.withColumn(\"label\", lit(0))"
   ]
  },
  {
   "cell_type": "code",
   "execution_count": 16,
   "metadata": {},
   "outputs": [],
   "source": [
    "#df1Join.unpersist()\n",
    "path = '/Volumes/My Passport/OpenCorpus/data-neg-2.csv'\n",
    "df1JoinNew_1.repartition(4).write.option(\"header\",\"true\").option(\"sep\",\",\").mode(\"overwrite\").csv(path)\n"
   ]
  },
  {
   "cell_type": "code",
   "execution_count": null,
   "metadata": {},
   "outputs": [],
   "source": [
    "## Creating Positive Samples\n",
    "\n",
    "df1 = df1.repartition(\"id\")\n",
    "df1Join = df1.alias(\"a\").join(df1.alias(\"b\")).where('a.ref == b.id')\n",
    "df1Join = df1Join.select(col(\"a.id\").alias('id1'), col('a.ref').alias('id2'),\"a.abstract\", \n",
    "                                                                                col('b.abstract').alias('paperAbstract2')).dropDuplicates()\\\n",
    "    \n",
    "df1JoinNew_1 = df1Join.withColumn(\"label\", lit(1))\n",
    "path = '/Volumes/My Passport/OpenCorpus/data-pos-2.csv'\n",
    "df1JoinNew_1.repartition(4).write.option(\"header\",\"true\").option(\"sep\",\",\").mode(\"overwrite\").csv(path)\n"
   ]
  }
 ],
 "metadata": {
  "kernelspec": {
   "display_name": "Python 3",
   "language": "python",
   "name": "python3"
  },
  "language_info": {
   "codemirror_mode": {
    "name": "ipython",
    "version": 3
   },
   "file_extension": ".py",
   "mimetype": "text/x-python",
   "name": "python",
   "nbconvert_exporter": "python",
   "pygments_lexer": "ipython3",
   "version": "3.7.4"
  }
 },
 "nbformat": 4,
 "nbformat_minor": 2
}
