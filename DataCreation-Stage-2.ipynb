{
 "cells": [
  {
   "cell_type": "code",
   "execution_count": 1,
   "metadata": {},
   "outputs": [],
   "source": [
    "import pyspark\n",
    "from pyspark import SparkContext\n",
    "from pyspark.sql import SparkSession\n",
    "\n",
    "sc = SparkContext.getOrCreate()\n",
    "\n",
    "sc.stop()\n",
    "conf = pyspark.SparkConf()\n",
    "conf.set('spark.local.dir', '/Volumes/My Passport')\n",
    "sc = pyspark.SparkContext(conf=conf)\n"
   ]
  },
  {
   "cell_type": "code",
   "execution_count": 2,
   "metadata": {},
   "outputs": [
    {
     "data": {
      "text/html": [
       "\n",
       "        <div>\n",
       "            <p><b>SparkContext</b></p>\n",
       "\n",
       "            <p><a href=\"http://192.168.0.2:4040\">Spark UI</a></p>\n",
       "\n",
       "            <dl>\n",
       "              <dt>Version</dt>\n",
       "                <dd><code>v2.4.4</code></dd>\n",
       "              <dt>Master</dt>\n",
       "                <dd><code>local[*]</code></dd>\n",
       "              <dt>AppName</dt>\n",
       "                <dd><code>PySparkShell</code></dd>\n",
       "            </dl>\n",
       "        </div>\n",
       "        "
      ],
      "text/plain": [
       "<SparkContext master=local[*] appName=PySparkShell>"
      ]
     },
     "execution_count": 2,
     "metadata": {},
     "output_type": "execute_result"
    }
   ],
   "source": [
    "sqlContext = SQLContext (sc)\n",
    "sc\n"
   ]
  },
  {
   "cell_type": "code",
   "execution_count": null,
   "metadata": {},
   "outputs": [],
   "source": [
    "## Cleaning Positive and Negative Data Records and Merging them"
   ]
  },
  {
   "cell_type": "code",
   "execution_count": 37,
   "metadata": {},
   "outputs": [
    {
     "name": "stdout",
     "output_type": "stream",
     "text": [
      "root\n",
      " |-- _c0: string (nullable = true)\n",
      " |-- _c1: string (nullable = true)\n",
      " |-- _c2: string (nullable = true)\n",
      " |-- _c3: string (nullable = true)\n",
      " |-- _c4: string (nullable = true)\n",
      "\n"
     ]
    }
   ],
   "source": [
    "spark.conf.set('spark.sql.shuffle.partitions', 4)\n",
    "csv_file_path1 = '/Volumes/My Passport/OpenCorpus/data-neg.csv/neg.csv'\n",
    "#csv_file_path2 = '/Volumes/My Passport/OpenCorpus/data-pos.csv/2.csv'\n",
    "df = sqlContext.read.csv(csv_file_path1 )\n",
    "df.printSchema()\n"
   ]
  },
  {
   "cell_type": "code",
   "execution_count": 38,
   "metadata": {},
   "outputs": [
    {
     "data": {
      "text/plain": [
       "Row(_c0='0d0467c4cccb0dcf0a30589a1d3dddd2cecfda11', _c1='ce994a42bee6f083f27071840eb79ab605f5760d', _c2=\"Falsified and substandard drugs are a global health problem, particularly in low- and middle-income countries (LMIC) that have weak pharmacovigilance and drug regulatory systems. Poor quality medicines have important health consequences, including the potential for treatment failure, development of antimicrobial resistance, and serious adverse drug reactions, increasing healthcare costs and undermining the public's confidence in healthcare systems. This article presents a review of the methods employed for the analysis of pharmaceutical formulations. Technologies for detecting substandard and falsified drugs were identified primarily through literature reviews. Key-informant interviews with experts augmented our methods when warranted. In order to aid comparisons, technologies were assigned a suitability score for use in LMIC ranging from 0–8. Scores measured the need for electricity, need for sample preparation, need for reagents, portability, level of training required, and speed of analysis. Technologies with higher scores were deemed the most feasible in LMICs. We categorized technologies that cost $10,000 USD or less as low cost, $10,000–100,000 USD as medium cost and those greater than $100,000 USD as high cost technologies (all prices are 2013 USD). This search strategy yielded information on 42 unique technologies. Five technologies were deemed both low cost and had feasibility scores between 6–8, and an additional four technologies had medium cost and high feasibility. Twelve technologies were deemed portable and therefore could be used in the field. Many technologies can aid in the detection of substandard and falsified drugs that vary from the simplest of checklists for packaging to the most complex mass spectrometry analyses. Although there is no single technology that can serve all the requirements of detecting falsified and substandard drugs, there is an opportunity to bifurcate the technologies into specific niches to address specific sections within the workflow process of detecting products.\", _c3='Abstract - This research aimed to find out the direct and indirect effect of organization culture, head master’s entrepreneurial competence, and organization culture on the quality of education service of Islamic junior high schools at Islamic boarding schools in Central Lombok. This was a quantitative research with 76 staffs/teachers taken for sample with proportionate stratified random sampling. The data were collected by using questionnaire and analyzed by using path analysis. The result showed that: 1) there was effect of organization culture on the quality of education service, 2) there was no effect of headmaster’s entrepreneurial competence on the quality of education service, 3) there was effect of organization culture on organization climate.4) there was effect of head master’s entrepreneurial competence on organization climate, 5) there was effect of organization climate on the quality of education service, 6) there was effect of both organization culture and head master’s entrepreneurial competence on the quality of education service, 7) there was no effect of organization culture and head master’s entrepreneurial competence on the quality of education service mediated by organization climate. The implication is that the organization culture, head master’s entrepreneurial competence, and organization climate need to be optimized for increasing the quality of education service ) Keywords: Organization Culture, Entrepreneurial competence, Organization Climate, The Quality of Education Service', _c4='0')"
      ]
     },
     "execution_count": 38,
     "metadata": {},
     "output_type": "execute_result"
    }
   ],
   "source": [
    "df.head()"
   ]
  },
  {
   "cell_type": "code",
   "execution_count": 39,
   "metadata": {},
   "outputs": [
    {
     "data": {
      "text/plain": [
       "58675"
      ]
     },
     "execution_count": 39,
     "metadata": {},
     "output_type": "execute_result"
    }
   ],
   "source": [
    "df.count()"
   ]
  },
  {
   "cell_type": "code",
   "execution_count": 40,
   "metadata": {},
   "outputs": [],
   "source": [
    "from pyspark.sql.functions import udf, concat, col, lit,regexp_replace, when, isnan, trim\n",
    "df1 = df.na.drop(subset=[\"_c0\" , \"_c1\", \"_c2\", \"_c3\", \"_c4\"])\n",
    "def to_null(c):\n",
    "    return when(~(col(c).isNull() | isnan(col(c)) | (trim(col(c)) == \"\")), col(c))\n",
    "\n",
    "\n",
    "df11 = df1.select([to_null(c).alias(c) for c in df.columns]).na.drop()"
   ]
  },
  {
   "cell_type": "code",
   "execution_count": 41,
   "metadata": {},
   "outputs": [
    {
     "name": "stdout",
     "output_type": "stream",
     "text": [
      "+--------------------+--------------------+--------------------+--------------------+---+\n",
      "|                 _c0|                 _c1|                 _c2|                 _c3|_c4|\n",
      "+--------------------+--------------------+--------------------+--------------------+---+\n",
      "|0d0467c4cccb0dcf0...|ce994a42bee6f083f...|Falsified and sub...|Abstract - This r...|  0|\n",
      "|878a852598fbb063b...|a7dbf9168b16ca1de...|Objectives To exp...|With the introduc...|  0|\n",
      "|237e5a3778ccff06c...|8ebd5cf0eaf77f077...|Abstract The Ni 0...|A significantly i...|  0|\n",
      "|878a852598fbb063b...|a77eb24170a610ead...|Objectives To exp...|Abstract Games-ba...|  0|\n",
      "|771723e7e2d9ed97d...|d6a8f6cc558225fb2...|In the future, th...|Abstract Experime...|  0|\n",
      "|237e5a3778ccff06c...|08dc950a0600d81c6...|Abstract The Ni 0...|Sex differences i...|  0|\n",
      "|0d0467c4cccb0dcf0...|6cc77df0f67980486...|Falsified and sub...|African American-...|  0|\n",
      "|771723e7e2d9ed97d...|ef8cd11edb3ad918e...|In the future, th...|This paper presen...|  0|\n",
      "|062e9c7579adc7312...|39ae41005ac4a91a4...|Automated medicat...|The commercial-sc...|  0|\n",
      "|984774e366d3d4fcf...|e225684e3172b2cbb...|BackgroundCorneal...|Multi-stimuli res...|  0|\n",
      "|771723e7e2d9ed97d...|35037881facb496e4...|In the future, th...|Background:Recent...|  0|\n",
      "|771723e7e2d9ed97d...|c50a0d16bbff76208...|In the future, th...|This paper presen...|  0|\n",
      "|771723e7e2d9ed97d...|9f5b0397dab0a7394...|In the future, th...|This brief report...|  0|\n",
      "|984774e366d3d4fcf...|3c1e44605135ff265...|BackgroundCorneal...|Abstract A novel ...|  0|\n",
      "|0d0467c4cccb0dcf0...|3707ae636c4a2ec4d...|Falsified and sub...|This study aimed ...|  0|\n",
      "|0d0467c4cccb0dcf0...|e4686f792a19f8d6d...|Falsified and sub...|Abstract A 248-nm...|  0|\n",
      "|771723e7e2d9ed97d...|fd1e77daf64f7c9e4...|In the future, th...|This paper presen...|  0|\n",
      "|878a852598fbb063b...|cc5b6e9ec0e000b83...|Objectives To exp...|This paper provid...|  0|\n",
      "|984774e366d3d4fcf...|1366de5bb112746a5...|BackgroundCorneal...|The current study...|  0|\n",
      "|771723e7e2d9ed97d...|9f5b0397dab0a7394...|In the future, th...|We demonstrate a ...|  0|\n",
      "+--------------------+--------------------+--------------------+--------------------+---+\n",
      "only showing top 20 rows\n",
      "\n"
     ]
    }
   ],
   "source": [
    "df11.show()"
   ]
  },
  {
   "cell_type": "code",
   "execution_count": 42,
   "metadata": {},
   "outputs": [],
   "source": [
    "df2 = df11.filter(df11._c4.isin(['0','1']))"
   ]
  },
  {
   "cell_type": "code",
   "execution_count": 43,
   "metadata": {},
   "outputs": [
    {
     "name": "stdout",
     "output_type": "stream",
     "text": [
      "+--------------------+--------------------+--------------------+--------------------+---+\n",
      "|                 _c0|                 _c1|                 _c2|                 _c3|_c4|\n",
      "+--------------------+--------------------+--------------------+--------------------+---+\n",
      "|0d0467c4cccb0dcf0...|ce994a42bee6f083f...|Falsified and sub...|Abstract - This r...|  0|\n",
      "|878a852598fbb063b...|a7dbf9168b16ca1de...|Objectives To exp...|With the introduc...|  0|\n",
      "|237e5a3778ccff06c...|8ebd5cf0eaf77f077...|Abstract The Ni 0...|A significantly i...|  0|\n",
      "|878a852598fbb063b...|a77eb24170a610ead...|Objectives To exp...|Abstract Games-ba...|  0|\n",
      "|771723e7e2d9ed97d...|d6a8f6cc558225fb2...|In the future, th...|Abstract Experime...|  0|\n",
      "|237e5a3778ccff06c...|08dc950a0600d81c6...|Abstract The Ni 0...|Sex differences i...|  0|\n",
      "|0d0467c4cccb0dcf0...|6cc77df0f67980486...|Falsified and sub...|African American-...|  0|\n",
      "|771723e7e2d9ed97d...|ef8cd11edb3ad918e...|In the future, th...|This paper presen...|  0|\n",
      "|062e9c7579adc7312...|39ae41005ac4a91a4...|Automated medicat...|The commercial-sc...|  0|\n",
      "|984774e366d3d4fcf...|e225684e3172b2cbb...|BackgroundCorneal...|Multi-stimuli res...|  0|\n",
      "|771723e7e2d9ed97d...|35037881facb496e4...|In the future, th...|Background:Recent...|  0|\n",
      "|771723e7e2d9ed97d...|c50a0d16bbff76208...|In the future, th...|This paper presen...|  0|\n",
      "|771723e7e2d9ed97d...|9f5b0397dab0a7394...|In the future, th...|This brief report...|  0|\n",
      "|984774e366d3d4fcf...|3c1e44605135ff265...|BackgroundCorneal...|Abstract A novel ...|  0|\n",
      "|0d0467c4cccb0dcf0...|3707ae636c4a2ec4d...|Falsified and sub...|This study aimed ...|  0|\n",
      "|0d0467c4cccb0dcf0...|e4686f792a19f8d6d...|Falsified and sub...|Abstract A 248-nm...|  0|\n",
      "|771723e7e2d9ed97d...|fd1e77daf64f7c9e4...|In the future, th...|This paper presen...|  0|\n",
      "|878a852598fbb063b...|cc5b6e9ec0e000b83...|Objectives To exp...|This paper provid...|  0|\n",
      "|984774e366d3d4fcf...|1366de5bb112746a5...|BackgroundCorneal...|The current study...|  0|\n",
      "|771723e7e2d9ed97d...|9f5b0397dab0a7394...|In the future, th...|We demonstrate a ...|  0|\n",
      "+--------------------+--------------------+--------------------+--------------------+---+\n",
      "only showing top 20 rows\n",
      "\n"
     ]
    }
   ],
   "source": [
    "df2.show()"
   ]
  },
  {
   "cell_type": "code",
   "execution_count": 44,
   "metadata": {},
   "outputs": [],
   "source": [
    "import re\n",
    "from pyspark.sql.functions import udf, concat, col, lit,regexp_replace\n",
    "from pyspark.sql.types import FloatType\n",
    "#commaRep = udf(lambda x: re.sub(',$|^,','', x))\n",
    "#commaToDot = udf(lambda x : float(str(x).replace(',', ' ')), FloatType())"
   ]
  },
  {
   "cell_type": "code",
   "execution_count": 45,
   "metadata": {},
   "outputs": [],
   "source": [
    "dfNew = df.withColumn(\"abs11\", regexp_replace(col(\"_c2\"), \"[,]\", \"\")).withColumn(\"abs2\", regexp_replace(col(\"_c3\"), \"[,]\", \"\"))"
   ]
  },
  {
   "cell_type": "code",
   "execution_count": 46,
   "metadata": {},
   "outputs": [
    {
     "name": "stdout",
     "output_type": "stream",
     "text": [
      "+--------------------+--------------------+--------------------+--------------------+---+--------------------+--------------------+\n",
      "|                 _c0|                 _c1|                 _c2|                 _c3|_c4|               abs11|                abs2|\n",
      "+--------------------+--------------------+--------------------+--------------------+---+--------------------+--------------------+\n",
      "|0d0467c4cccb0dcf0...|ce994a42bee6f083f...|Falsified and sub...|Abstract - This r...|  0|Falsified and sub...|Abstract - This r...|\n",
      "|878a852598fbb063b...|a7dbf9168b16ca1de...|Objectives To exp...|With the introduc...|  0|Objectives To exp...|With the introduc...|\n",
      "|237e5a3778ccff06c...|8ebd5cf0eaf77f077...|Abstract The Ni 0...|A significantly i...|  0|Abstract The Ni 0...|A significantly i...|\n",
      "|878a852598fbb063b...|a77eb24170a610ead...|Objectives To exp...|Abstract Games-ba...|  0|Objectives To exp...|Abstract Games-ba...|\n",
      "|771723e7e2d9ed97d...|d6a8f6cc558225fb2...|In the future, th...|Abstract Experime...|  0|In the future the...|Abstract Experime...|\n",
      "|237e5a3778ccff06c...|08dc950a0600d81c6...|Abstract The Ni 0...|Sex differences i...|  0|Abstract The Ni 0...|Sex differences i...|\n",
      "|0d0467c4cccb0dcf0...|6cc77df0f67980486...|Falsified and sub...|African American-...|  0|Falsified and sub...|African American-...|\n",
      "|771723e7e2d9ed97d...|ef8cd11edb3ad918e...|In the future, th...|This paper presen...|  0|In the future the...|This paper presen...|\n",
      "|062e9c7579adc7312...|39ae41005ac4a91a4...|Automated medicat...|The commercial-sc...|  0|Automated medicat...|The commercial-sc...|\n",
      "|984774e366d3d4fcf...|e225684e3172b2cbb...|BackgroundCorneal...|Multi-stimuli res...|  0|BackgroundCorneal...|Multi-stimuli res...|\n",
      "|771723e7e2d9ed97d...|35037881facb496e4...|In the future, th...|Background:Recent...|  0|In the future the...|Background:Recent...|\n",
      "|771723e7e2d9ed97d...|c50a0d16bbff76208...|In the future, th...|This paper presen...|  0|In the future the...|This paper presen...|\n",
      "|771723e7e2d9ed97d...|9f5b0397dab0a7394...|In the future, th...|This brief report...|  0|In the future the...|This brief report...|\n",
      "|984774e366d3d4fcf...|3c1e44605135ff265...|BackgroundCorneal...|Abstract A novel ...|  0|BackgroundCorneal...|Abstract A novel ...|\n",
      "|0d0467c4cccb0dcf0...|3707ae636c4a2ec4d...|Falsified and sub...|This study aimed ...|  0|Falsified and sub...|This study aimed ...|\n",
      "|0d0467c4cccb0dcf0...|e4686f792a19f8d6d...|Falsified and sub...|Abstract A 248-nm...|  0|Falsified and sub...|Abstract A 248-nm...|\n",
      "|771723e7e2d9ed97d...|fd1e77daf64f7c9e4...|In the future, th...|This paper presen...|  0|In the future the...|This paper presen...|\n",
      "|878a852598fbb063b...|cc5b6e9ec0e000b83...|Objectives To exp...|This paper provid...|  0|Objectives To exp...|This paper provid...|\n",
      "|984774e366d3d4fcf...|1366de5bb112746a5...|BackgroundCorneal...|The current study...|  0|BackgroundCorneal...|The current study...|\n",
      "|771723e7e2d9ed97d...|9f5b0397dab0a7394...|In the future, th...|We demonstrate a ...|  0|In the future the...|We demonstrate a ...|\n",
      "+--------------------+--------------------+--------------------+--------------------+---+--------------------+--------------------+\n",
      "only showing top 20 rows\n",
      "\n"
     ]
    }
   ],
   "source": [
    "dfNew.show()"
   ]
  },
  {
   "cell_type": "code",
   "execution_count": 47,
   "metadata": {},
   "outputs": [
    {
     "name": "stdout",
     "output_type": "stream",
     "text": [
      "root\n",
      " |-- _c0: string (nullable = true)\n",
      " |-- _c1: string (nullable = true)\n",
      " |-- _c2: string (nullable = true)\n",
      " |-- _c3: string (nullable = true)\n",
      " |-- _c4: string (nullable = true)\n",
      " |-- abs11: string (nullable = true)\n",
      " |-- abs2: string (nullable = true)\n",
      "\n"
     ]
    }
   ],
   "source": [
    "dfNew.printSchema()"
   ]
  },
  {
   "cell_type": "code",
   "execution_count": 48,
   "metadata": {},
   "outputs": [],
   "source": [
    "dfNew_T = dfNew.withColumn(\"t1\", regexp_replace(col(\"_c0\"), \"[,]\", \"\")).withColumn(\"t2\", regexp_replace(col(\"_c1\"), \"[,]\", \"\"))"
   ]
  },
  {
   "cell_type": "code",
   "execution_count": 49,
   "metadata": {},
   "outputs": [
    {
     "name": "stdout",
     "output_type": "stream",
     "text": [
      "+--------------------+--------------------+--------------------+--------------------+---+--------------------+--------------------+--------------------+--------------------+\n",
      "|                 _c0|                 _c1|                 _c2|                 _c3|_c4|               abs11|                abs2|                  t1|                  t2|\n",
      "+--------------------+--------------------+--------------------+--------------------+---+--------------------+--------------------+--------------------+--------------------+\n",
      "|0d0467c4cccb0dcf0...|ce994a42bee6f083f...|Falsified and sub...|Abstract - This r...|  0|Falsified and sub...|Abstract - This r...|0d0467c4cccb0dcf0...|ce994a42bee6f083f...|\n",
      "|878a852598fbb063b...|a7dbf9168b16ca1de...|Objectives To exp...|With the introduc...|  0|Objectives To exp...|With the introduc...|878a852598fbb063b...|a7dbf9168b16ca1de...|\n",
      "|237e5a3778ccff06c...|8ebd5cf0eaf77f077...|Abstract The Ni 0...|A significantly i...|  0|Abstract The Ni 0...|A significantly i...|237e5a3778ccff06c...|8ebd5cf0eaf77f077...|\n",
      "|878a852598fbb063b...|a77eb24170a610ead...|Objectives To exp...|Abstract Games-ba...|  0|Objectives To exp...|Abstract Games-ba...|878a852598fbb063b...|a77eb24170a610ead...|\n",
      "|771723e7e2d9ed97d...|d6a8f6cc558225fb2...|In the future, th...|Abstract Experime...|  0|In the future the...|Abstract Experime...|771723e7e2d9ed97d...|d6a8f6cc558225fb2...|\n",
      "|237e5a3778ccff06c...|08dc950a0600d81c6...|Abstract The Ni 0...|Sex differences i...|  0|Abstract The Ni 0...|Sex differences i...|237e5a3778ccff06c...|08dc950a0600d81c6...|\n",
      "|0d0467c4cccb0dcf0...|6cc77df0f67980486...|Falsified and sub...|African American-...|  0|Falsified and sub...|African American-...|0d0467c4cccb0dcf0...|6cc77df0f67980486...|\n",
      "|771723e7e2d9ed97d...|ef8cd11edb3ad918e...|In the future, th...|This paper presen...|  0|In the future the...|This paper presen...|771723e7e2d9ed97d...|ef8cd11edb3ad918e...|\n",
      "|062e9c7579adc7312...|39ae41005ac4a91a4...|Automated medicat...|The commercial-sc...|  0|Automated medicat...|The commercial-sc...|062e9c7579adc7312...|39ae41005ac4a91a4...|\n",
      "|984774e366d3d4fcf...|e225684e3172b2cbb...|BackgroundCorneal...|Multi-stimuli res...|  0|BackgroundCorneal...|Multi-stimuli res...|984774e366d3d4fcf...|e225684e3172b2cbb...|\n",
      "|771723e7e2d9ed97d...|35037881facb496e4...|In the future, th...|Background:Recent...|  0|In the future the...|Background:Recent...|771723e7e2d9ed97d...|35037881facb496e4...|\n",
      "|771723e7e2d9ed97d...|c50a0d16bbff76208...|In the future, th...|This paper presen...|  0|In the future the...|This paper presen...|771723e7e2d9ed97d...|c50a0d16bbff76208...|\n",
      "|771723e7e2d9ed97d...|9f5b0397dab0a7394...|In the future, th...|This brief report...|  0|In the future the...|This brief report...|771723e7e2d9ed97d...|9f5b0397dab0a7394...|\n",
      "|984774e366d3d4fcf...|3c1e44605135ff265...|BackgroundCorneal...|Abstract A novel ...|  0|BackgroundCorneal...|Abstract A novel ...|984774e366d3d4fcf...|3c1e44605135ff265...|\n",
      "|0d0467c4cccb0dcf0...|3707ae636c4a2ec4d...|Falsified and sub...|This study aimed ...|  0|Falsified and sub...|This study aimed ...|0d0467c4cccb0dcf0...|3707ae636c4a2ec4d...|\n",
      "|0d0467c4cccb0dcf0...|e4686f792a19f8d6d...|Falsified and sub...|Abstract A 248-nm...|  0|Falsified and sub...|Abstract A 248-nm...|0d0467c4cccb0dcf0...|e4686f792a19f8d6d...|\n",
      "|771723e7e2d9ed97d...|fd1e77daf64f7c9e4...|In the future, th...|This paper presen...|  0|In the future the...|This paper presen...|771723e7e2d9ed97d...|fd1e77daf64f7c9e4...|\n",
      "|878a852598fbb063b...|cc5b6e9ec0e000b83...|Objectives To exp...|This paper provid...|  0|Objectives To exp...|This paper provid...|878a852598fbb063b...|cc5b6e9ec0e000b83...|\n",
      "|984774e366d3d4fcf...|1366de5bb112746a5...|BackgroundCorneal...|The current study...|  0|BackgroundCorneal...|The current study...|984774e366d3d4fcf...|1366de5bb112746a5...|\n",
      "|771723e7e2d9ed97d...|9f5b0397dab0a7394...|In the future, th...|We demonstrate a ...|  0|In the future the...|We demonstrate a ...|771723e7e2d9ed97d...|9f5b0397dab0a7394...|\n",
      "+--------------------+--------------------+--------------------+--------------------+---+--------------------+--------------------+--------------------+--------------------+\n",
      "only showing top 20 rows\n",
      "\n"
     ]
    }
   ],
   "source": [
    "dfNew_T.show()"
   ]
  },
  {
   "cell_type": "code",
   "execution_count": 50,
   "metadata": {},
   "outputs": [
    {
     "name": "stdout",
     "output_type": "stream",
     "text": [
      "+--------------------+--------------------+--------------------+--------------------+---+--------------------+--------------------+--------------------+--------------------+\n",
      "|                 _c0|                 _c1|                 _c2|                 _c3|_c4|               abs11|                abs2|                  t1|                  t2|\n",
      "+--------------------+--------------------+--------------------+--------------------+---+--------------------+--------------------+--------------------+--------------------+\n",
      "|0d0467c4cccb0dcf0...|ce994a42bee6f083f...|Falsified and sub...|Abstract - This r...|  0|Falsified and sub...|Abstract - This r...|0d0467c4cccb0dcf0...|ce994a42bee6f083f...|\n",
      "|878a852598fbb063b...|a7dbf9168b16ca1de...|Objectives To exp...|With the introduc...|  0|Objectives To exp...|With the introduc...|878a852598fbb063b...|a7dbf9168b16ca1de...|\n",
      "|237e5a3778ccff06c...|8ebd5cf0eaf77f077...|Abstract The Ni 0...|A significantly i...|  0|Abstract The Ni 0...|A significantly i...|237e5a3778ccff06c...|8ebd5cf0eaf77f077...|\n",
      "|878a852598fbb063b...|a77eb24170a610ead...|Objectives To exp...|Abstract Games-ba...|  0|Objectives To exp...|Abstract Games-ba...|878a852598fbb063b...|a77eb24170a610ead...|\n",
      "|771723e7e2d9ed97d...|d6a8f6cc558225fb2...|In the future, th...|Abstract Experime...|  0|In the future the...|Abstract Experime...|771723e7e2d9ed97d...|d6a8f6cc558225fb2...|\n",
      "|237e5a3778ccff06c...|08dc950a0600d81c6...|Abstract The Ni 0...|Sex differences i...|  0|Abstract The Ni 0...|Sex differences i...|237e5a3778ccff06c...|08dc950a0600d81c6...|\n",
      "|0d0467c4cccb0dcf0...|6cc77df0f67980486...|Falsified and sub...|African American-...|  0|Falsified and sub...|African American-...|0d0467c4cccb0dcf0...|6cc77df0f67980486...|\n",
      "|771723e7e2d9ed97d...|ef8cd11edb3ad918e...|In the future, th...|This paper presen...|  0|In the future the...|This paper presen...|771723e7e2d9ed97d...|ef8cd11edb3ad918e...|\n",
      "|062e9c7579adc7312...|39ae41005ac4a91a4...|Automated medicat...|The commercial-sc...|  0|Automated medicat...|The commercial-sc...|062e9c7579adc7312...|39ae41005ac4a91a4...|\n",
      "|984774e366d3d4fcf...|e225684e3172b2cbb...|BackgroundCorneal...|Multi-stimuli res...|  0|BackgroundCorneal...|Multi-stimuli res...|984774e366d3d4fcf...|e225684e3172b2cbb...|\n",
      "|771723e7e2d9ed97d...|35037881facb496e4...|In the future, th...|Background:Recent...|  0|In the future the...|Background:Recent...|771723e7e2d9ed97d...|35037881facb496e4...|\n",
      "|771723e7e2d9ed97d...|c50a0d16bbff76208...|In the future, th...|This paper presen...|  0|In the future the...|This paper presen...|771723e7e2d9ed97d...|c50a0d16bbff76208...|\n",
      "|771723e7e2d9ed97d...|9f5b0397dab0a7394...|In the future, th...|This brief report...|  0|In the future the...|This brief report...|771723e7e2d9ed97d...|9f5b0397dab0a7394...|\n",
      "|984774e366d3d4fcf...|3c1e44605135ff265...|BackgroundCorneal...|Abstract A novel ...|  0|BackgroundCorneal...|Abstract A novel ...|984774e366d3d4fcf...|3c1e44605135ff265...|\n",
      "|0d0467c4cccb0dcf0...|3707ae636c4a2ec4d...|Falsified and sub...|This study aimed ...|  0|Falsified and sub...|This study aimed ...|0d0467c4cccb0dcf0...|3707ae636c4a2ec4d...|\n",
      "|0d0467c4cccb0dcf0...|e4686f792a19f8d6d...|Falsified and sub...|Abstract A 248-nm...|  0|Falsified and sub...|Abstract A 248-nm...|0d0467c4cccb0dcf0...|e4686f792a19f8d6d...|\n",
      "|771723e7e2d9ed97d...|fd1e77daf64f7c9e4...|In the future, th...|This paper presen...|  0|In the future the...|This paper presen...|771723e7e2d9ed97d...|fd1e77daf64f7c9e4...|\n",
      "|878a852598fbb063b...|cc5b6e9ec0e000b83...|Objectives To exp...|This paper provid...|  0|Objectives To exp...|This paper provid...|878a852598fbb063b...|cc5b6e9ec0e000b83...|\n",
      "|984774e366d3d4fcf...|1366de5bb112746a5...|BackgroundCorneal...|The current study...|  0|BackgroundCorneal...|The current study...|984774e366d3d4fcf...|1366de5bb112746a5...|\n",
      "|771723e7e2d9ed97d...|9f5b0397dab0a7394...|In the future, th...|We demonstrate a ...|  0|In the future the...|We demonstrate a ...|771723e7e2d9ed97d...|9f5b0397dab0a7394...|\n",
      "+--------------------+--------------------+--------------------+--------------------+---+--------------------+--------------------+--------------------+--------------------+\n",
      "only showing top 20 rows\n",
      "\n"
     ]
    }
   ],
   "source": [
    "dfNew_T = dfNew_T.na.drop()\n",
    "dfNew_T.show()"
   ]
  },
  {
   "cell_type": "code",
   "execution_count": 51,
   "metadata": {},
   "outputs": [],
   "source": [
    "import pyspark.sql.functions as size\n",
    "dfNew_T = dfNew_T.withColumn('t3', when(col('_c4') == '', 0).otherwise(col('_c4')))"
   ]
  },
  {
   "cell_type": "code",
   "execution_count": 52,
   "metadata": {},
   "outputs": [
    {
     "name": "stdout",
     "output_type": "stream",
     "text": [
      "root\n",
      " |-- _c0: string (nullable = true)\n",
      " |-- _c1: string (nullable = true)\n",
      " |-- _c2: string (nullable = true)\n",
      " |-- _c3: string (nullable = true)\n",
      " |-- _c4: string (nullable = true)\n",
      " |-- abs11: string (nullable = true)\n",
      " |-- abs2: string (nullable = true)\n",
      " |-- t1: string (nullable = true)\n",
      " |-- t2: string (nullable = true)\n",
      " |-- t3: string (nullable = true)\n",
      "\n"
     ]
    }
   ],
   "source": [
    "dfNew_T.printSchema()"
   ]
  },
  {
   "cell_type": "code",
   "execution_count": null,
   "metadata": {},
   "outputs": [],
   "source": []
  },
  {
   "cell_type": "code",
   "execution_count": 53,
   "metadata": {},
   "outputs": [
    {
     "data": {
      "text/plain": [
       "Row(id1='0d0467c4cccb0dcf0a30589a1d3dddd2cecfda11', id2='ce994a42bee6f083f27071840eb79ab605f5760d', paperAbstract1=\"Falsified and substandard drugs are a global health problem particularly in low- and middle-income countries (LMIC) that have weak pharmacovigilance and drug regulatory systems. Poor quality medicines have important health consequences including the potential for treatment failure development of antimicrobial resistance and serious adverse drug reactions increasing healthcare costs and undermining the public's confidence in healthcare systems. This article presents a review of the methods employed for the analysis of pharmaceutical formulations. Technologies for detecting substandard and falsified drugs were identified primarily through literature reviews. Key-informant interviews with experts augmented our methods when warranted. In order to aid comparisons technologies were assigned a suitability score for use in LMIC ranging from 0–8. Scores measured the need for electricity need for sample preparation need for reagents portability level of training required and speed of analysis. Technologies with higher scores were deemed the most feasible in LMICs. We categorized technologies that cost $10000 USD or less as low cost $10000–100000 USD as medium cost and those greater than $100000 USD as high cost technologies (all prices are 2013 USD). This search strategy yielded information on 42 unique technologies. Five technologies were deemed both low cost and had feasibility scores between 6–8 and an additional four technologies had medium cost and high feasibility. Twelve technologies were deemed portable and therefore could be used in the field. Many technologies can aid in the detection of substandard and falsified drugs that vary from the simplest of checklists for packaging to the most complex mass spectrometry analyses. Although there is no single technology that can serve all the requirements of detecting falsified and substandard drugs there is an opportunity to bifurcate the technologies into specific niches to address specific sections within the workflow process of detecting products.\", paperAbstract2='Abstract - This research aimed to find out the direct and indirect effect of organization culture head master’s entrepreneurial competence and organization culture on the quality of education service of Islamic junior high schools at Islamic boarding schools in Central Lombok. This was a quantitative research with 76 staffs/teachers taken for sample with proportionate stratified random sampling. The data were collected by using questionnaire and analyzed by using path analysis. The result showed that: 1) there was effect of organization culture on the quality of education service 2) there was no effect of headmaster’s entrepreneurial competence on the quality of education service 3) there was effect of organization culture on organization climate.4) there was effect of head master’s entrepreneurial competence on organization climate 5) there was effect of organization climate on the quality of education service 6) there was effect of both organization culture and head master’s entrepreneurial competence on the quality of education service 7) there was no effect of organization culture and head master’s entrepreneurial competence on the quality of education service mediated by organization climate. The implication is that the organization culture head master’s entrepreneurial competence and organization climate need to be optimized for increasing the quality of education service ) Keywords: Organization Culture Entrepreneurial competence Organization Climate The Quality of Education Service', label='0')"
      ]
     },
     "execution_count": 53,
     "metadata": {},
     "output_type": "execute_result"
    }
   ],
   "source": [
    "dfNew_1 = dfNew_T.select(col(\"t1\").alias('id1'), col('t2').alias('id2'),col('abs11').alias('paperAbstract1'),col('abs2').alias('paperAbstract2'), col('_c4').alias('label'))\n",
    "dfNew_1.head()"
   ]
  },
  {
   "cell_type": "code",
   "execution_count": 54,
   "metadata": {},
   "outputs": [],
   "source": [
    "dfNew_2 = dfNew_1.filter(dfNew_1.label.isin(['0','1']))"
   ]
  },
  {
   "cell_type": "code",
   "execution_count": 55,
   "metadata": {},
   "outputs": [],
   "source": [
    "from pyspark.sql.functions import udf, concat, col, lit,regexp_replace, when, isnan, trim\n",
    "def to_null(c):\n",
    "    return when(~(col(c).isNull() | isnan(col(c)) | (trim(col(c)) == \"\")), col(c))\n",
    "\n",
    "\n",
    "dfNew_21 = dfNew_2.select([to_null(c).alias(c) for c in dfNew_2.columns]).na.drop()"
   ]
  },
  {
   "cell_type": "code",
   "execution_count": 56,
   "metadata": {},
   "outputs": [],
   "source": [
    "df13 = dfNew_21.na.drop(subset=[\"id1\" , \"id2\", \"paperAbstract1\", \"paperAbstract2\", \"label\"])\n",
    "df21 = df13.dropDuplicates()"
   ]
  },
  {
   "cell_type": "code",
   "execution_count": 57,
   "metadata": {},
   "outputs": [
    {
     "data": {
      "text/plain": [
       "40514"
      ]
     },
     "execution_count": 57,
     "metadata": {},
     "output_type": "execute_result"
    }
   ],
   "source": [
    "df21.count()"
   ]
  },
  {
   "cell_type": "code",
   "execution_count": 58,
   "metadata": {},
   "outputs": [
    {
     "name": "stdout",
     "output_type": "stream",
     "text": [
      "+--------------------+--------------------+--------------------+--------------------+-----+\n",
      "|                 id1|                 id2|      paperAbstract1|      paperAbstract2|label|\n",
      "+--------------------+--------------------+--------------------+--------------------+-----+\n",
      "|878a852598fbb063b...|f2fec74b3fcf04509...|Objectives To exp...|Lewis et al aimed...|    0|\n",
      "|771723e7e2d9ed97d...|ecda4d12ebbaaecc0...|In the future the...|Abstract The chem...|    0|\n",
      "|878a852598fbb063b...|a77eb24170a610ead...|Objectives To exp...|Recent studies ha...|    0|\n",
      "|984774e366d3d4fcf...|5f8bc6319446f38d6...|BackgroundCorneal...|BackgroundSalicyl...|    0|\n",
      "|771723e7e2d9ed97d...|f2fa93e36b2eb4334...|In the future the...|In this letter we...|    0|\n",
      "|984774e366d3d4fcf...|44c481f3f17a8b1e9...|BackgroundCorneal...|The quandary in t...|    0|\n",
      "|771723e7e2d9ed97d...|e3718ee0bafe60b68...|In the future the...|The purpose of th...|    0|\n",
      "|984774e366d3d4fcf...|34f25a8704614163c...|BackgroundCorneal...|Abattoir waste me...|    0|\n",
      "|771723e7e2d9ed97d...|35037881facb496e4...|In the future the...|Measurements of t...|    0|\n",
      "|878a852598fbb063b...|df137ecc497ac1947...|Objectives To exp...|Abstract This stu...|    0|\n",
      "+--------------------+--------------------+--------------------+--------------------+-----+\n",
      "only showing top 10 rows\n",
      "\n"
     ]
    }
   ],
   "source": [
    "df21.show(10)"
   ]
  },
  {
   "cell_type": "code",
   "execution_count": 59,
   "metadata": {},
   "outputs": [],
   "source": [
    "data = df21\n",
    "data.repartition(1).write.option(\"quoteMode\", \"None\").option(\"header\",\"true\").csv(\"/Volumes/My Passport/OpenCorpus/OC-Data/neg-samples.csv\")"
   ]
  },
  {
   "cell_type": "code",
   "execution_count": null,
   "metadata": {},
   "outputs": [],
   "source": [
    "## Reused the above code for cleaning both the positive and negative samples already generated -> \n",
    "## (Changed the input file names and output file name)\n",
    "## After that, ran the code below for merging the two files"
   ]
  },
  {
   "cell_type": "code",
   "execution_count": null,
   "metadata": {},
   "outputs": [],
   "source": [
    "## =================== Merging Code ===================== #####"
   ]
  },
  {
   "cell_type": "code",
   "execution_count": 63,
   "metadata": {},
   "outputs": [
    {
     "name": "stdout",
     "output_type": "stream",
     "text": [
      "root\n",
      " |-- id1: string (nullable = true)\n",
      " |-- id2: string (nullable = true)\n",
      " |-- paperAbstract1: string (nullable = true)\n",
      " |-- paperAbstract2: string (nullable = true)\n",
      " |-- label: integer (nullable = true)\n",
      "\n"
     ]
    },
    {
     "data": {
      "text/plain": [
       "'\\ndataframe_11 = dataframe_1.limit(60000)\\n\\ndataframe_2 = sqlContext.read.option(\\'header\\', \\'true\\').option(\"inferSchema\",\"true\").csv(csv_file_path_2)\\ndataframe_2.printSchema()\\ndataframe_2.count()\\n\\ndataframe_22 = dataframe_2.limit(40000)\\n'"
      ]
     },
     "execution_count": 63,
     "metadata": {},
     "output_type": "execute_result"
    }
   ],
   "source": [
    "### Merging the data\n",
    "\n",
    "spark.conf.set('spark.sql.shuffle.partitions', 4)\n",
    "csv_file_path_1 = 'Desktop/open-pos.csv'\n",
    "csv_file_path_2 = 'Desktop/open-neg.csv'\n",
    "csv_file_path = 'Desktop/open-corpus.csv'\n",
    "\n",
    "dataframe_1 = sqlContext.read.option('header', 'true').option(\"inferSchema\",\"true\").csv([csv_file_path_1, csv_file_path_2])\n",
    "dataframe_1.printSchema()\n",
    "dataframe_1.count()"
   ]
  },
  {
   "cell_type": "code",
   "execution_count": null,
   "metadata": {},
   "outputs": [],
   "source": [
    "\n",
    "dataframe_1.count()"
   ]
  },
  {
   "cell_type": "code",
   "execution_count": 65,
   "metadata": {},
   "outputs": [
    {
     "name": "stdout",
     "output_type": "stream",
     "text": [
      "+--------------------+--------------------+--------------------+--------------------+-----+\n",
      "|                 id1|                 id2|      paperAbstract1|      paperAbstract2|label|\n",
      "+--------------------+--------------------+--------------------+--------------------+-----+\n",
      "|b879c5dfe1d691d44...|ec582ace310706d01...|Cell rearrangemen...|Cadherins not onl...|    1|\n",
      "|7a76880fa360569d9...|0a971c292d32b82f1...|Background Nutrit...|The incidence of ...|    1|\n",
      "|060e29dab03e478e3...|77205fc81b913939c...|The objective of ...|An effective host...|    1|\n",
      "|309c4700c350e3f7d...|c1d3a76a61e17e7b0...|Pulsed field grad...|Abstract Crystall...|    1|\n",
      "|c2b9906375d2582fc...|4e36ed3f4f8fda2ab...|Nanofibrous bioma...|Abstract Gold nan...|    1|\n",
      "|b3e4a519c09e2b2df...|1c761e56b492a1a02...|The purpose of th...|Organizational le...|    1|\n",
      "|54b94c389de1a1381...|5f0aa2614821d4f2a...|Breast cancer is ...|Chemical investig...|    1|\n",
      "|6ac8999bc3e4c8843...|a94b5adc6be4b10d1...|The privacy by de...|Online social net...|    1|\n",
      "|bc28c9faf6125ce54...|723f3224f1e58b261...|Everett (2005) ha...|1. On the Possibl...|    1|\n",
      "|57f189294d33dc800...|773cded6afb7b47c2...|The subject of th...|We have developed...|    1|\n",
      "|41eaccfde584dc292...|3fe6955181f9362ad...|Haemochromatosis ...|Abstract In the s...|    1|\n",
      "|93d52e6c797309b20...|3b3e637e1b7fb79e5...|Abstract Eight pa...|Vigabatrin is an ...|    1|\n",
      "|c8405aeb8934bca09...|27783f63609c7a07b...|The design of eff...|The ambulatory ca...|    1|\n",
      "|bcf84b2133d942ed7...|af53686e389641e16...|The small effects...|Laterality in paw...|    1|\n",
      "|4774e3c906169b8cd...|0abd3f965292c0750...|Human endogenous ...|Multiple sclerosi...|    1|\n",
      "|ffb8462ed7523f8c7...|de490d6210093d20e...|Introduccion Estu...|\"Despite notable ...|    1|\n",
      "|6566edd08a7938809...|8e79c14084cafc2a9...|The intersection ...|The purpose of th...|    1|\n",
      "|38414befb30104a00...|b7cf1e37b18f8a327...|Different stresso...|Coping defined as...|    1|\n",
      "|a00cdc3546130691a...|812cdb8e5a662c3e3...|Abstract The know...|Abstract The geot...|    1|\n",
      "|01bdde48e33beb02b...|a5b4e40081950f992...|For about 30 year...|Rats implanted wi...|    1|\n",
      "+--------------------+--------------------+--------------------+--------------------+-----+\n",
      "only showing top 20 rows\n",
      "\n"
     ]
    }
   ],
   "source": [
    "dataframe_1.show()"
   ]
  },
  {
   "cell_type": "code",
   "execution_count": 62,
   "metadata": {},
   "outputs": [],
   "source": [
    "csv_file_path = 'Desktop/open-corpus-1.csv'\n",
    "dataframe_1.coalesce(1).write.format('csv').option('header', 'true').save(csv_file_path)"
   ]
  },
  {
   "cell_type": "code",
   "execution_count": null,
   "metadata": {},
   "outputs": [],
   "source": []
  }
 ],
 "metadata": {
  "kernelspec": {
   "display_name": "Python 3",
   "language": "python",
   "name": "python3"
  },
  "language_info": {
   "codemirror_mode": {
    "name": "ipython",
    "version": 3
   },
   "file_extension": ".py",
   "mimetype": "text/x-python",
   "name": "python",
   "nbconvert_exporter": "python",
   "pygments_lexer": "ipython3",
   "version": "3.7.4"
  }
 },
 "nbformat": 4,
 "nbformat_minor": 2
}
