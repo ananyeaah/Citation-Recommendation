{
 "cells": [
  {
   "cell_type": "code",
   "execution_count": 1,
   "metadata": {},
   "outputs": [],
   "source": [
    "import pyspark\n",
    "from pyspark import SparkContext\n",
    "sc = SparkContext.getOrCreate()"
   ]
  },
  {
   "cell_type": "code",
   "execution_count": 2,
   "metadata": {},
   "outputs": [
    {
     "data": {
      "text/html": [
       "\n",
       "        <div>\n",
       "            <p><b>SparkContext</b></p>\n",
       "\n",
       "            <p><a href=\"http://192.168.0.2:4040\">Spark UI</a></p>\n",
       "\n",
       "            <dl>\n",
       "              <dt>Version</dt>\n",
       "                <dd><code>v2.4.4</code></dd>\n",
       "              <dt>Master</dt>\n",
       "                <dd><code>local[*]</code></dd>\n",
       "              <dt>AppName</dt>\n",
       "                <dd><code>PySparkShell</code></dd>\n",
       "            </dl>\n",
       "        </div>\n",
       "        "
      ],
      "text/plain": [
       "<SparkContext master=local[*] appName=PySparkShell>"
      ]
     },
     "execution_count": 2,
     "metadata": {},
     "output_type": "execute_result"
    }
   ],
   "source": [
    "sqlContext = SQLContext (sc)\n",
    "sc"
   ]
  },
  {
   "cell_type": "code",
   "execution_count": 3,
   "metadata": {},
   "outputs": [],
   "source": [
    "json_file_path = '/Volumes/My Passport/Ritu/12/1.json'\n",
    "json_to_df = sqlContext.read.json(json_file_path).limit(1000)"
   ]
  },
  {
   "cell_type": "code",
   "execution_count": 4,
   "metadata": {},
   "outputs": [
    {
     "data": {
      "text/plain": [
       "StructType(List(StructField(authors,ArrayType(StructType(List(StructField(ids,ArrayType(StringType,true),true),StructField(name,StringType,true))),true),true),StructField(id,StringType,true),StructField(inCitations,ArrayType(StringType,true),true),StructField(keyPhrases,ArrayType(StringType,true),true),StructField(outCitations,ArrayType(StringType,true),true),StructField(paperAbstract,StringType,true),StructField(pdfUrls,ArrayType(StringType,true),true),StructField(s2Url,StringType,true),StructField(title,StringType,true),StructField(venue,StringType,true),StructField(year,LongType,true)))"
      ]
     },
     "execution_count": 4,
     "metadata": {},
     "output_type": "execute_result"
    }
   ],
   "source": [
    "json_to_df.schema"
   ]
  },
  {
   "cell_type": "code",
   "execution_count": 5,
   "metadata": {},
   "outputs": [
    {
     "name": "stdout",
     "output_type": "stream",
     "text": [
      "root\n",
      " |-- id: string (nullable = true)\n",
      " |-- paperAbstract: string (nullable = true)\n",
      " |-- ref: string (nullable = true)\n",
      "\n"
     ]
    }
   ],
   "source": [
    "from pyspark.sql.functions import explode, avg, col\n",
    "\n",
    "df1 = json_to_df.select(\"id\", \"paperAbstract\", explode(\"outCitations\").alias(\"ref\"))\n",
    "#df1.show()\n",
    "\n",
    "df1.printSchema()"
   ]
  },
  {
   "cell_type": "code",
   "execution_count": null,
   "metadata": {},
   "outputs": [],
   "source": [
    "df1.na.drop()"
   ]
  },
  {
   "cell_type": "code",
   "execution_count": 6,
   "metadata": {},
   "outputs": [],
   "source": [
    "#df2 = df1\n",
    "#df1.show()\n",
    "#df2.show()\n",
    "#spark.conf.set( \"spark.sql.crossJoin.enabled\" , \"true\" )\n",
    "df1 = df1.repartition(\"id\")\n",
    "df1Join = df1.alias(\"a\").join(df1.alias(\"b\")).where('a.ref != b.id')\n",
    "df1Join = df1Join.select(col(\"a.id\").alias('id1'), col('a.ref').alias('id2'),\"a.abstract\", \n",
    "                                                                                col('b.abstract').alias('paperAbstract2')).dropDuplicates()\\\n",
    "    \n",
    "\n"
   ]
  },
  {
   "cell_type": "code",
   "execution_count": 10,
   "metadata": {},
   "outputs": [],
   "source": [
    "from pyspark.sql.functions import lit\n",
    "df1Join = df1Join.withColumn(\"label\", lit(1))\n",
    "#df1Join.show()"
   ]
  },
  {
   "cell_type": "code",
   "execution_count": null,
   "metadata": {},
   "outputs": [],
   "source": [
    "df1Join.na.drop()\n",
    "df1Join.repartition(4).write.format('com.databricks.spark.csv').save(\"/Volumes/My Passport/Ritu/12/myfile2.json\",header = 'true')"
   ]
  },
  {
   "cell_type": "code",
   "execution_count": null,
   "metadata": {},
   "outputs": [],
   "source": []
  }
 ],
 "metadata": {
  "kernelspec": {
   "display_name": "Python 3",
   "language": "python",
   "name": "python3"
  },
  "language_info": {
   "codemirror_mode": {
    "name": "ipython",
    "version": 3
   },
   "file_extension": ".py",
   "mimetype": "text/x-python",
   "name": "python",
   "nbconvert_exporter": "python",
   "pygments_lexer": "ipython3",
   "version": "3.7.4"
  }
 },
 "nbformat": 4,
 "nbformat_minor": 2
}
